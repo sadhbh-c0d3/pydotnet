{
 "cells": [
  {
   "cell_type": "markdown",
   "metadata": {
    "slideshow": {
     "slide_type": "slide"
    }
   },
   "source": [
    "# Python vs. dotNET Interoperability"
   ]
  },
  {
   "cell_type": "markdown",
   "metadata": {
    "slideshow": {
     "slide_type": "fragment"
    }
   },
   "source": [
    "## Getting Started"
   ]
  },
  {
   "cell_type": "markdown",
   "metadata": {
    "slideshow": {
     "slide_type": "fragment"
    }
   },
   "source": [
    "### Import _dotnet_ module"
   ]
  },
  {
   "cell_type": "code",
   "execution_count": 1,
   "metadata": {
    "collapsed": false,
    "slideshow": {
     "slide_type": "skip"
    }
   },
   "outputs": [],
   "source": [
    "# We want to be Python 3 compatible\n",
    "try:\n",
    "    import builtins\n",
    "except ImportError:\n",
    "    import __builtin__ as builtins\n",
    "    \n",
    "from __future__ import print_function\n",
    "\n",
    "# Helpers\n",
    "def add_many(a,x):\n",
    "    a.setdefault(x[0], []).append(x[1])\n",
    "    return a\n",
    "\n",
    "def multi_dict(kv_pairs):\n",
    "    return reduce(add_many, kv_pairs, {})\n",
    "\n",
    "def pretty_names(sequence, key_width = 2, max_rowlen = 4):\n",
    "    kv_pairs = map(lambda x: (x[:key_width], x), sequence)\n",
    "    d = multi_dict(kv_pairs)\n",
    "    lists = [], [], []\n",
    "    for k, v in sorted(d.iteritems()):\n",
    "        i = 2 if k[0] is '_' else 0 if k[0] == k[0].upper() else 1\n",
    "        while len(v) > max_rowlen:\n",
    "            a,v = v[:max_rowlen], v[max_rowlen:]\n",
    "            s = ', '.join(a)\n",
    "            lists[i].append(s)\n",
    "        s = ', '.join(v)\n",
    "        lists[i].append(s)\n",
    "    return '\\n\\n'.join('\\n'.join(x) for x in lists[:2] if not not x)"
   ]
  },
  {
   "cell_type": "code",
   "execution_count": 2,
   "metadata": {
    "collapsed": false,
    "slideshow": {
     "slide_type": "fragment"
    }
   },
   "outputs": [],
   "source": [
    "import dotnet.seamless"
   ]
  },
  {
   "cell_type": "markdown",
   "metadata": {
    "slideshow": {
     "slide_type": "fragment"
    }
   },
   "source": [
    "**NOTE** The `dotnet.seamless` module is tailored to provide seamless Python integration with .NET.\n",
    "\n",
    "When importing `dotnet` (and not `dotnet.seamless`) the support for generic and extension methods is not installed, basic .NET types and built-in function overrides are not integrated into `__main__`. \n",
    "\n",
    "**Usage**\n",
    "- Use `dotnet.seamless` for interactive Python shell or with small scripts. \n",
    "- Use `dotnet` for bigger projects."
   ]
  },
  {
   "cell_type": "code",
   "execution_count": 3,
   "metadata": {
    "collapsed": true,
    "slideshow": {
     "slide_type": "skip"
    }
   },
   "outputs": [],
   "source": [
    "# When `dotnet.seamless` is imported, then the `help()` function comes from `dotnet.overrides.help()`\n",
    "# But for the purposes of this presentation we will use this version instead, which will trim output to `maxrows`.\n",
    "def help(x):\n",
    "    class D:\n",
    "        def __init__(s, maxrows = 12):\n",
    "            s.__lines = []\n",
    "            s.__maxrows = maxrows\n",
    "        def writeln(s, *a):\n",
    "            s.__lines.append(' '.join(map(str, a)))\n",
    "        def present(s):\n",
    "            for ln in s.__lines[:s.__maxrows]:\n",
    "                print(ln)\n",
    "            if len(s.__lines) > s.__maxrows:\n",
    "                print('...')\n",
    "    try:\n",
    "        dotnet.classhelp.get_help(x, D(), {})\n",
    "    except NotImplemented:\n",
    "        __builtin__.help(x)"
   ]
  },
  {
   "cell_type": "markdown",
   "metadata": {
    "slideshow": {
     "slide_type": "fragment"
    }
   },
   "source": [
    "---"
   ]
  },
  {
   "cell_type": "markdown",
   "metadata": {
    "slideshow": {
     "slide_type": "subslide"
    }
   },
   "source": [
    "#### Loading Assemblies"
   ]
  },
  {
   "cell_type": "markdown",
   "metadata": {
    "slideshow": {
     "slide_type": "fragment"
    }
   },
   "source": [
    "The assembly related functions are:"
   ]
  },
  {
   "cell_type": "code",
   "execution_count": 4,
   "metadata": {
    "collapsed": false,
    "slideshow": {
     "slide_type": "fragment"
    }
   },
   "outputs": [
    {
     "name": "stdout",
     "output_type": "stream",
     "text": [
      "add_assemblies\n",
      "assemblies\n",
      "load_assemblies, load_assembly\n",
      "set_assemblies\n"
     ]
    }
   ],
   "source": [
    "print(pretty_names(x for x in dir(dotnet) if x in dotnet.asmresolve.__all__))"
   ]
  },
  {
   "cell_type": "markdown",
   "metadata": {
    "slideshow": {
     "slide_type": "fragment"
    }
   },
   "source": [
    "**NOTE** Use `add_assemblies()` to add path where your .NET assemblies are located, and use `load_assembly()` or `load_assemblies()` to load."
   ]
  },
  {
   "cell_type": "markdown",
   "metadata": {
    "slideshow": {
     "slide_type": "fragment"
    }
   },
   "source": [
    "---"
   ]
  },
  {
   "cell_type": "markdown",
   "metadata": {
    "slideshow": {
     "slide_type": "subslide"
    }
   },
   "source": [
    "#### .NET types integrated into `__main__` when importing `dotnet.seamless`"
   ]
  },
  {
   "cell_type": "markdown",
   "metadata": {
    "slideshow": {
     "slide_type": "fragment"
    }
   },
   "source": [
    "Certain basic .NET types are automatically imported into `__main__`:"
   ]
  },
  {
   "cell_type": "code",
   "execution_count": 5,
   "metadata": {
    "collapsed": false,
    "slideshow": {
     "slide_type": "fragment"
    }
   },
   "outputs": [
    {
     "name": "stdout",
     "output_type": "stream",
     "text": [
      "Action1, Action2, Action3, Action4, Action5, Action6, Action7, Action8\n",
      "Array\n",
      "Byte\n",
      "Decimal, Dictionary, Double\n",
      "Func1, Func2, Func3, Func4, Func5, Func6, Func7, Func8\n",
      "Int16, Int32, Int64\n",
      "List\n",
      "Object\n",
      "SByte, Single, String\n",
      "Tuple1, Tuple2, Tuple3, Tuple4, Tuple5, Tuple6, Tuple7, Tuple8\n",
      "Type\n",
      "UInt16, UInt32, UInt64\n",
      "Void\n",
      "\n",
      "dotnet\n"
     ]
    }
   ],
   "source": [
    "# Print all from `dotnet.commontypes` that were integrated into `__main__` by `dotnet.seamless`\n",
    "print(pretty_names((x for x in dir() if x in dir(dotnet.commontypes)), 1, 8))"
   ]
  },
  {
   "cell_type": "markdown",
   "metadata": {
    "slideshow": {
     "slide_type": "fragment"
    }
   },
   "source": [
    "**NOTE** All built-in Python types are in _lower-case_ and .NET types are in _CamelCase_.\n",
    "\n",
    "**e.g.** So when you see `Int32` or `String` it's a .NET type, and if you see `int` or `str` it's Python type."
   ]
  },
  {
   "cell_type": "markdown",
   "metadata": {
    "slideshow": {
     "slide_type": "fragment"
    }
   },
   "source": [
    "---"
   ]
  },
  {
   "cell_type": "markdown",
   "metadata": {
    "slideshow": {
     "slide_type": "subslide"
    }
   },
   "source": [
    "#### Shadowed builtins integrated into `__main__` when importing `dotnet.seamless`"
   ]
  },
  {
   "cell_type": "markdown",
   "metadata": {
    "slideshow": {
     "slide_type": "fragment"
    }
   },
   "source": [
    "There are built-in functions are defined in `dotnet.overrides` and they are:"
   ]
  },
  {
   "cell_type": "code",
   "execution_count": 6,
   "metadata": {
    "collapsed": false,
    "slideshow": {
     "slide_type": "fragment"
    }
   },
   "outputs": [
    {
     "name": "stdout",
     "output_type": "stream",
     "text": [
      "help\n",
      "isinstance, issubclass\n",
      "type\n"
     ]
    }
   ],
   "source": [
    "# Print all from `dotnet.overrides` that were integrated into `__main__` by `dotnet.seamless`\n",
    "print(pretty_names(x for x in dir() if x in dotnet.overrides.__all__))"
   ]
  },
  {
   "cell_type": "markdown",
   "metadata": {
    "slideshow": {
     "slide_type": "fragment"
    }
   },
   "source": [
    "**NOTE** They call original built-in functions when used with Python types."
   ]
  },
  {
   "cell_type": "markdown",
   "metadata": {
    "slideshow": {
     "slide_type": "fragment"
    }
   },
   "source": [
    "---"
   ]
  },
  {
   "cell_type": "markdown",
   "metadata": {
    "slideshow": {
     "slide_type": "subslide"
    }
   },
   "source": [
    "### Import .NET type into Python namespace"
   ]
  },
  {
   "cell_type": "markdown",
   "metadata": {
    "slideshow": {
     "slide_type": "fragment"
    }
   },
   "source": [
    "We can import .NET namespace just like if it was Python module:"
   ]
  },
  {
   "cell_type": "code",
   "execution_count": 7,
   "metadata": {
    "collapsed": false,
    "slideshow": {
     "slide_type": "fragment"
    }
   },
   "outputs": [
    {
     "data": {
      "text/plain": [
       "<class Int32>"
      ]
     },
     "execution_count": 7,
     "metadata": {},
     "output_type": "execute_result"
    }
   ],
   "source": [
    "import System\n",
    "\n",
    "System.Int32"
   ]
  },
  {
   "cell_type": "markdown",
   "metadata": {
    "slideshow": {
     "slide_type": "fragment"
    }
   },
   "source": [
    "And we can import specific symbols from .NET namespace into current Python scope:"
   ]
  },
  {
   "cell_type": "code",
   "execution_count": 8,
   "metadata": {
    "collapsed": false,
    "slideshow": {
     "slide_type": "fragment"
    }
   },
   "outputs": [
    {
     "data": {
      "text/plain": [
       "<class List`1>"
      ]
     },
     "execution_count": 8,
     "metadata": {},
     "output_type": "execute_result"
    }
   ],
   "source": [
    "from System.Collections.Generic import List\n",
    "\n",
    "List"
   ]
  },
  {
   "cell_type": "markdown",
   "metadata": {
    "slideshow": {
     "slide_type": "fragment"
    }
   },
   "source": [
    "---"
   ]
  },
  {
   "cell_type": "markdown",
   "metadata": {
    "slideshow": {
     "slide_type": "slide"
    }
   },
   "source": [
    "### Managed types available by default\n"
   ]
  },
  {
   "cell_type": "markdown",
   "metadata": {
    "slideshow": {
     "slide_type": "fragment"
    }
   },
   "source": [
    "Certain managed types, which map to Python types are available from start\n",
    "- **System:** `Void, Object, String`\n",
    "- **Numeric:** `Int16, Int32, Int64, UInt16, UInt32, UInt64, Byte, SByte, Single, Double, Decimal,`\n",
    "- **Collections:** `Array[T], List[T], Dictionary[K, V],`\n",
    "- **Tuples:** `Tuple1[T1], Tuple2[T1, T2], ..., Tuple8[T1, T2,..., T8],`\n",
    "- **Actions:** `Action1[T1], Action2[T1, T2], ..., Action8[T1, T2,..., T8],`\n",
    "- **Functions:** `Func1[T1], Func2[T1, T2], ..., Func8[T1, T2,..., T8],`"
   ]
  },
  {
   "cell_type": "markdown",
   "metadata": {
    "slideshow": {
     "slide_type": "fragment"
    }
   },
   "source": [
    "**NOTE** These types are imported by `dotnet.commontypes`. Some of these types are defined within `dotnet.proxytypes`, and because of that we should use these and not try to import ones from `System`."
   ]
  },
  {
   "cell_type": "code",
   "execution_count": 9,
   "metadata": {
    "collapsed": false,
    "slideshow": {
     "slide_type": "fragment"
    }
   },
   "outputs": [
    {
     "data": {
      "text/plain": [
       "(<class String>, <class Int32>, <class Tuple`2>)"
      ]
     },
     "execution_count": 9,
     "metadata": {},
     "output_type": "execute_result"
    }
   ],
   "source": [
    "# Example types\n",
    "String, Int32, Tuple2[String, Int32]"
   ]
  },
  {
   "cell_type": "markdown",
   "metadata": {
    "slideshow": {
     "slide_type": "fragment"
    }
   },
   "source": [
    "---"
   ]
  },
  {
   "cell_type": "markdown",
   "metadata": {
    "slideshow": {
     "slide_type": "subslide"
    }
   },
   "source": [
    "### Built-in Type Conversions"
   ]
  },
  {
   "cell_type": "markdown",
   "metadata": {
    "slideshow": {
     "slide_type": "fragment"
    }
   },
   "source": [
    "#### Conversion of Python values into .NET method arguments"
   ]
  },
  {
   "cell_type": "markdown",
   "metadata": {
    "slideshow": {
     "slide_type": "fragment"
    }
   },
   "source": [
    "When calling .NET method the parameters are converted from Python to .NET depending on managed method signature:\n",
    "- Any parameter accepts Python `None` as .NET `null`\n",
    "- Any parameter of integer type (e.g. `Int16`, `Int32`, `Int64`) accepts Python `int` or `long`\n",
    "- Any parameter of floating point type (e.g. `Single`, `Double`) accepts Python `float`\n",
    "- Any parameter of `String` type accepts Python `str`\n",
    "- Any parameter of `IEnumerable` type accepts Python `list` or .NET `IEnumerable`\n",
    "- Any parameter of `IDictionary` type accepts Python `dict` or .NET `IDictionary`\n",
    "- Any parameter of `Action<>` type accepts Python `function` or .NET `Action<>`\n",
    "- Any parameter of `Func<>` type accepts Python `function` or .NET `Func<>`\n",
    "- Any parameter of other `Delegate` type accepts Python `function` or matching .NET `Delegate`\n",
    "\n",
    "All .NET objects are represented by `PyDotnet.Interop.Object`.\n",
    "\n",
    "When Python `function` get converted to .NET `Action<>`, `Func<>`, or `Delegate` there is assumption that number of parameters of the Python `function` matches target `Action<>`, `Func<>`, or `Delegate`."
   ]
  },
  {
   "cell_type": "markdown",
   "metadata": {
    "slideshow": {
     "slide_type": "fragment"
    }
   },
   "source": [
    "#### Example"
   ]
  },
  {
   "cell_type": "code",
   "execution_count": 10,
   "metadata": {
    "collapsed": false,
    "slideshow": {
     "slide_type": "fragment"
    }
   },
   "outputs": [
    {
     "data": {
      "text/plain": [
       "[1, 2, 3, 4, 5, 6]"
      ]
     },
     "execution_count": 10,
     "metadata": {},
     "output_type": "execute_result"
    }
   ],
   "source": [
    "lst = List[Int32]()\n",
    "\n",
    "# Python `int` gets converted into `Int32`\n",
    "lst.Add(1)\n",
    "lst.Add(2)\n",
    "lst.Add(3)\n",
    "\n",
    "# Python `list` gets converted into `List<Int32>`\n",
    "lst.AddRange([4,5,6])\n",
    "lst"
   ]
  },
  {
   "cell_type": "markdown",
   "metadata": {
    "slideshow": {
     "slide_type": "fragment"
    }
   },
   "source": [
    "---"
   ]
  },
  {
   "cell_type": "markdown",
   "metadata": {
    "slideshow": {
     "slide_type": "subslide"
    }
   },
   "source": [
    "#### Conversion of .NET method return values into Python"
   ]
  },
  {
   "cell_type": "markdown",
   "metadata": {
    "slideshow": {
     "slide_type": "fragment"
    }
   },
   "source": [
    "When calling .NET method the returned value is converted to Python:\n",
    "- All .NET integer types (e.g. `Int16`, `Int32`, `Int64`) convert to either `int` or `long`\n",
    "- All .NET floating point types (e.g. `Single`, `Double`) convert always to `float`\n",
    "- Any .NET `String` always converts to `str`\n",
    "- Any .NET `null` always converts to `None`\n",
    "- Any other .NET types are not converted and `PyDotnet.Interop.Object` is used to represent them in Python"
   ]
  },
  {
   "cell_type": "markdown",
   "metadata": {
    "slideshow": {
     "slide_type": "fragment"
    }
   },
   "source": [
    "#### Example"
   ]
  },
  {
   "cell_type": "code",
   "execution_count": 11,
   "metadata": {
    "collapsed": false,
    "slideshow": {
     "slide_type": "fragment"
    }
   },
   "outputs": [
    {
     "data": {
      "text/plain": [
       "3"
      ]
     },
     "execution_count": 11,
     "metadata": {},
     "output_type": "execute_result"
    }
   ],
   "source": [
    "lst = List[Int32]([1,2,3,4,5,6])\n",
    "\n",
    "# Python `lambda` gets converted into `System.Predicate<Int32>`\n",
    "lst.FindIndex(lambda x: x > 3)\n"
   ]
  },
  {
   "cell_type": "markdown",
   "metadata": {
    "slideshow": {
     "slide_type": "fragment"
    }
   },
   "source": [
    "---"
   ]
  },
  {
   "cell_type": "markdown",
   "metadata": {
    "slideshow": {
     "slide_type": "subslide"
    }
   },
   "source": [
    "#### Conversion of Python values into .NET method arguments of type `System.Object` "
   ]
  },
  {
   "cell_type": "markdown",
   "metadata": {
    "slideshow": {
     "slide_type": "fragment"
    }
   },
   "source": [
    "When .NET method argument is of type `System.Object` it can accept any type. \n",
    "\n",
    "The `dotnet` module provides automatic conversions:\n",
    "- Any `int` or `long` is converted to `Int32` or `Int64`\n",
    "- Any `float` is converted to `Double`\n",
    "- Any `str` is converted to `String`"
   ]
  },
  {
   "cell_type": "code",
   "execution_count": 12,
   "metadata": {
    "collapsed": false,
    "slideshow": {
     "slide_type": "fragment"
    }
   },
   "outputs": [
    {
     "name": "stdout",
     "output_type": "stream",
     "text": [
      "Items [1, 2.5, [1, 2, 3], <Action`1 instance>]\n",
      "Types [<type 'int'>, <type 'float'>, <List`1 type 'instance'>, <Action`1 type 'instance'>]\n"
     ]
    }
   ],
   "source": [
    "# We construct a list of `System.Object`, which even includes `List<Int32>` or `Action<System.Object>`\n",
    "lst = List[Object]([1, 2.5, List[Int32]([1,2,3]), Action1[Object](lambda x: 5)])\n",
    "\n",
    "print('Items', repr(lst))\n",
    "print('Types', map(type, lst))"
   ]
  },
  {
   "cell_type": "markdown",
   "metadata": {
    "slideshow": {
     "slide_type": "fragment"
    }
   },
   "source": [
    "---"
   ]
  },
  {
   "cell_type": "markdown",
   "metadata": {
    "slideshow": {
     "slide_type": "subslide"
    }
   },
   "source": [
    "#### Explicit type conversion of parameters "
   ]
  },
  {
   "cell_type": "markdown",
   "metadata": {
    "slideshow": {
     "slide_type": "fragment"
    }
   },
   "source": [
    "Sometimes it is not possible to get correct automated guess to what type Python value should be converted. It is possible to explicitly specify parameter types."
   ]
  },
  {
   "cell_type": "code",
   "execution_count": 13,
   "metadata": {
    "collapsed": false,
    "slideshow": {
     "slide_type": "fragment"
    }
   },
   "outputs": [
    {
     "data": {
      "text/plain": [
       "[int, float, NoneType, str]"
      ]
     },
     "execution_count": 13,
     "metadata": {},
     "output_type": "execute_result"
    }
   ],
   "source": [
    "z = List[Object]()\n",
    "\n",
    "# Calling `Add()` method while specifying exact parameter type\n",
    "z.Add[Int32](1)\n",
    "z.Add[Double](1)\n",
    "z.Add(None)\n",
    "z.Add[String]('Hello')\n",
    "\n",
    "map(type, z)"
   ]
  },
  {
   "cell_type": "markdown",
   "metadata": {
    "slideshow": {
     "slide_type": "fragment"
    }
   },
   "source": [
    "---"
   ]
  },
  {
   "cell_type": "markdown",
   "metadata": {
    "slideshow": {
     "slide_type": "subslide"
    }
   },
   "source": [
    "When we call `help(z.Add)` we'll see `Add(item: Object)` signature"
   ]
  },
  {
   "cell_type": "code",
   "execution_count": 14,
   "metadata": {
    "collapsed": false,
    "slideshow": {
     "slide_type": "fragment"
    }
   },
   "outputs": [
    {
     "name": "stdout",
     "output_type": "stream",
     "text": [
      "Help on method List[Object].Add in module mscorlib:\n",
      "  \n",
      "  Add(item: Object)\n",
      "  \n",
      "\n",
      "References:\n",
      " |\n",
      " |  ----------------------------------------------------------------------\n",
      " |  Types defined in assembly mscorlib, Version=4.0.0.0, Culture=neutral, PublicKeyToken=b77a5c561934e089:\n",
      " |\n",
      " |\n",
      " |    within namespace System.Collections.Generic:\n",
      "...\n"
     ]
    }
   ],
   "source": [
    "help(z.Add)"
   ]
  },
  {
   "cell_type": "markdown",
   "metadata": {
    "slideshow": {
     "slide_type": "fragment"
    }
   },
   "source": [
    "---"
   ]
  },
  {
   "cell_type": "markdown",
   "metadata": {
    "slideshow": {
     "slide_type": "subslide"
    }
   },
   "source": [
    "But when we call `help(z.Add[Double])` we'll see `Add(item: Double)` signature"
   ]
  },
  {
   "cell_type": "code",
   "execution_count": 15,
   "metadata": {
    "collapsed": false,
    "slideshow": {
     "slide_type": "fragment"
    }
   },
   "outputs": [
    {
     "name": "stdout",
     "output_type": "stream",
     "text": [
      "Help on method List[Object].Add in module mscorlib:\n",
      "  \n",
      "  Add(item: Double)\n",
      "  \n",
      "\n",
      "References:\n",
      " |\n",
      " |  ----------------------------------------------------------------------\n",
      " |  Types defined in assembly mscorlib, Version=4.0.0.0, Culture=neutral, PublicKeyToken=b77a5c561934e089:\n",
      " |\n",
      " |\n",
      " |    within namespace System:\n",
      "...\n"
     ]
    }
   ],
   "source": [
    "help(z.Add[Double])"
   ]
  },
  {
   "cell_type": "markdown",
   "metadata": {
    "slideshow": {
     "slide_type": "fragment"
    }
   },
   "source": [
    "---"
   ]
  },
  {
   "cell_type": "markdown",
   "metadata": {
    "slideshow": {
     "slide_type": "slide"
    }
   },
   "source": [
    "### Collections"
   ]
  },
  {
   "cell_type": "markdown",
   "metadata": {
    "slideshow": {
     "slide_type": "fragment"
    }
   },
   "source": [
    "#### Array Type `T[]`"
   ]
  },
  {
   "cell_type": "markdown",
   "metadata": {
    "slideshow": {
     "slide_type": "fragment"
    }
   },
   "source": [
    "An array type `T` can be created using `Array[T]`"
   ]
  },
  {
   "cell_type": "code",
   "execution_count": 16,
   "metadata": {
    "collapsed": false,
    "slideshow": {
     "slide_type": "fragment"
    }
   },
   "outputs": [
    {
     "name": "stdout",
     "output_type": "stream",
     "text": [
      "[1, 2, 3, 4] : System.Int32[]\n"
     ]
    }
   ],
   "source": [
    "a = Array[Int32]([1,2,3,4])\n",
    "\n",
    "print(repr(a), ':', type(a))"
   ]
  },
  {
   "cell_type": "markdown",
   "metadata": {
    "slideshow": {
     "slide_type": "fragment"
    }
   },
   "source": [
    "#### List Type `List<T>`"
   ]
  },
  {
   "cell_type": "markdown",
   "metadata": {
    "slideshow": {
     "slide_type": "fragment"
    }
   },
   "source": [
    "A `List[T]` can be used to store a sequence of `T` elements."
   ]
  },
  {
   "cell_type": "code",
   "execution_count": 17,
   "metadata": {
    "collapsed": false,
    "slideshow": {
     "slide_type": "fragment"
    }
   },
   "outputs": [
    {
     "name": "stdout",
     "output_type": "stream",
     "text": [
      "[1, 2, 3, 4] : System.Collections.Generic.List`1[System.Int32]\n"
     ]
    }
   ],
   "source": [
    "b = List[Int32]([1,2,3,4])\n",
    "\n",
    "print(repr(b), ':', type(b))"
   ]
  },
  {
   "cell_type": "markdown",
   "metadata": {
    "slideshow": {
     "slide_type": "fragment"
    }
   },
   "source": [
    "---"
   ]
  },
  {
   "cell_type": "markdown",
   "metadata": {
    "slideshow": {
     "slide_type": "subslide"
    }
   },
   "source": [
    "#### Dictionary Type `Dictionary<K,V>`"
   ]
  },
  {
   "cell_type": "markdown",
   "metadata": {
    "slideshow": {
     "slide_type": "fragment"
    }
   },
   "source": [
    "A `Dictionary[K,V]` can be used to create `K => V` mapping"
   ]
  },
  {
   "cell_type": "code",
   "execution_count": 18,
   "metadata": {
    "collapsed": false,
    "slideshow": {
     "slide_type": "fragment"
    }
   },
   "outputs": [
    {
     "name": "stdout",
     "output_type": "stream",
     "text": [
      "{'a': 10, 'c': 30, 'b': 20} : System.Collections.Generic.Dictionary`2[System.String,System.Int32]\n"
     ]
    }
   ],
   "source": [
    "c = Dictionary[String, Int32]({'a':10, 'b':20, 'c':30})\n",
    "\n",
    "print(repr(c), ':', type(c))"
   ]
  },
  {
   "cell_type": "markdown",
   "metadata": {
    "slideshow": {
     "slide_type": "fragment"
    }
   },
   "source": [
    "---"
   ]
  },
  {
   "cell_type": "markdown",
   "metadata": {
    "slideshow": {
     "slide_type": "slide"
    }
   },
   "source": [
    "### Type of .NET object"
   ]
  },
  {
   "cell_type": "markdown",
   "metadata": {
    "slideshow": {
     "slide_type": "fragment"
    }
   },
   "source": [
    "We can use `type(x)` to see what is the type of our .NET object `x`.\n",
    "\n",
    "The `type()` function is imported to `__main__` and shadows built-in function when we `import dotnet.seamless`. Otherwise it's available in `dotnet.overrides` module."
   ]
  },
  {
   "cell_type": "code",
   "execution_count": 19,
   "metadata": {
    "collapsed": false,
    "slideshow": {
     "slide_type": "fragment"
    }
   },
   "outputs": [
    {
     "name": "stdout",
     "output_type": "stream",
     "text": [
      "dotNET Type: System.Int32[]\n",
      "Python type: <class 'dotnet.PyDotnet.Object'>\n"
     ]
    }
   ],
   "source": [
    "# Let's see what will be the type for Array[Int32]\n",
    "print('dotNET Type:', type(a))\n",
    "print('Python type:', builtins.type(a))"
   ]
  },
  {
   "cell_type": "code",
   "execution_count": 20,
   "metadata": {
    "collapsed": false,
    "slideshow": {
     "slide_type": "fragment"
    }
   },
   "outputs": [
    {
     "name": "stdout",
     "output_type": "stream",
     "text": [
      "dotNET Type: System.Collections.Generic.List`1[System.Int32]\n",
      "Python type: <class 'dotnet.PyDotnet.Object'>\n"
     ]
    }
   ],
   "source": [
    "# Let's see what will be the type for List[Int32]\n",
    "print('dotNET Type:', type(b))\n",
    "print('Python type:', builtins.type(b))"
   ]
  },
  {
   "cell_type": "markdown",
   "metadata": {
    "slideshow": {
     "slide_type": "fragment"
    }
   },
   "source": [
    "The overriden `type()` function only changes behavior for .NET objects, and works as always for Python objects"
   ]
  },
  {
   "cell_type": "code",
   "execution_count": 21,
   "metadata": {
    "collapsed": false,
    "slideshow": {
     "slide_type": "fragment"
    }
   },
   "outputs": [
    {
     "data": {
      "text/plain": [
       "(int, str, list, dict)"
      ]
     },
     "execution_count": 21,
     "metadata": {},
     "output_type": "execute_result"
    }
   ],
   "source": [
    "type(1), type('Hello World!'), type([1, 2, 3]), type({'a':1, 'b':2})"
   ]
  },
  {
   "cell_type": "markdown",
   "metadata": {
    "slideshow": {
     "slide_type": "fragment"
    }
   },
   "source": [
    "---"
   ]
  },
  {
   "cell_type": "markdown",
   "metadata": {
    "slideshow": {
     "slide_type": "slide"
    }
   },
   "source": [
    "### Help system"
   ]
  },
  {
   "cell_type": "markdown",
   "metadata": {
    "slideshow": {
     "slide_type": "fragment"
    }
   },
   "source": [
    "The `help()` function is imported to __main__ and shadows built-in function when we import dotnet.seamless. Otherwise it's available in dotnet.overrides module.\n",
    "\n",
    "We can use `help(x)` to see help for `x`, which can be any of .NET:\n",
    "- namespace, e.g. `help(System)`\n",
    "- class, e.g. `help(System.Int32)`\n",
    "- object, e.g. `help(List[Int32]())`\n",
    "- method, e.g. `help(List[Int32]().Add)`\n",
    "- method overloads, e.g. `help(List[Int32]().FindIndex)`\n",
    "- constructors, e.g. `help(List[Int32].__createinstance__)`\n",
    "\n",
    "**NOTE** The `help(dotnet.clr)` gives list of all namespaces and all loaded assemblies."
   ]
  },
  {
   "cell_type": "markdown",
   "metadata": {
    "slideshow": {
     "slide_type": "fragment"
    }
   },
   "source": [
    "---"
   ]
  },
  {
   "cell_type": "markdown",
   "metadata": {
    "slideshow": {
     "slide_type": "subslide"
    }
   },
   "source": [
    "#### Help on namespace"
   ]
  },
  {
   "cell_type": "code",
   "execution_count": 22,
   "metadata": {
    "collapsed": false,
    "slideshow": {
     "slide_type": "fragment"
    }
   },
   "outputs": [
    {
     "name": "stdout",
     "output_type": "stream",
     "text": [
      "Help on namespace System.Collections:\n",
      "\n",
      "namespace System.Collections\n",
      " |\n",
      " |  Data and other attributes defined here:\n",
      " |\n",
      " |  class ArrayList\n",
      " |  class ArrayListDebugView\n",
      " |  class BitArray\n",
      " |  class CaseInsensitiveComparer\n",
      " |  class CaseInsensitiveHashCodeProvider\n",
      " |  class CollectionBase\n",
      "...\n"
     ]
    }
   ],
   "source": [
    "help(System.Collections)"
   ]
  },
  {
   "cell_type": "markdown",
   "metadata": {
    "slideshow": {
     "slide_type": "fragment"
    }
   },
   "source": [
    "---"
   ]
  },
  {
   "cell_type": "markdown",
   "metadata": {
    "slideshow": {
     "slide_type": "subslide"
    }
   },
   "source": [
    "#### Help on method"
   ]
  },
  {
   "cell_type": "code",
   "execution_count": 23,
   "metadata": {
    "collapsed": false,
    "slideshow": {
     "slide_type": "fragment"
    }
   },
   "outputs": [
    {
     "name": "stdout",
     "output_type": "stream",
     "text": [
      "Help on method List[Int32].Add in module mscorlib:\n",
      "  \n",
      "  Add(item: Int32)\n",
      "  \n",
      "\n",
      "References:\n",
      " |\n",
      " |  ----------------------------------------------------------------------\n",
      " |  Types defined in assembly mscorlib, Version=4.0.0.0, Culture=neutral, PublicKeyToken=b77a5c561934e089:\n",
      " |\n",
      " |\n",
      " |    within namespace System.Collections.Generic:\n",
      "...\n"
     ]
    }
   ],
   "source": [
    "help(List[Int32].Add)"
   ]
  },
  {
   "cell_type": "markdown",
   "metadata": {
    "slideshow": {
     "slide_type": "fragment"
    }
   },
   "source": [
    "---"
   ]
  },
  {
   "cell_type": "markdown",
   "metadata": {
    "slideshow": {
     "slide_type": "subslide"
    }
   },
   "source": [
    "#### Help on constructors"
   ]
  },
  {
   "cell_type": "code",
   "execution_count": 24,
   "metadata": {
    "collapsed": false,
    "slideshow": {
     "slide_type": "fragment"
    }
   },
   "outputs": [
    {
     "name": "stdout",
     "output_type": "stream",
     "text": [
      "Help on method List[Int32].__init__ in module mscorlib:\n",
      "  \n",
      "  __init__() -> List[Int32]\n",
      "  \n",
      "  __init__(capacity: Int32) -> List[Int32]\n",
      "  \n",
      "  __init__(collection: IEnumerable[Int32]) -> List[Int32]\n",
      "  \n",
      "\n",
      "References:\n",
      " |\n",
      " |  ----------------------------------------------------------------------\n",
      "...\n"
     ]
    }
   ],
   "source": [
    "help(List[Int32].__createinstance__)"
   ]
  },
  {
   "cell_type": "markdown",
   "metadata": {
    "slideshow": {
     "slide_type": "fragment"
    }
   },
   "source": [
    "---"
   ]
  },
  {
   "cell_type": "markdown",
   "metadata": {
    "slideshow": {
     "slide_type": "slide"
    }
   },
   "source": [
    "### Assemblies and Namespaces"
   ]
  },
  {
   "cell_type": "markdown",
   "metadata": {
    "slideshow": {
     "slide_type": "fragment"
    }
   },
   "source": [
    "#### Assembly Injection"
   ]
  },
  {
   "cell_type": "markdown",
   "metadata": {
    "slideshow": {
     "slide_type": "fragment"
    }
   },
   "source": [
    "In later example we will want to load some C# assembly, so we start with an example of how we can actually create an assembly directly from Python code!\n",
    "\n",
    "We will build some assembly containing some example classes. It will go to `C:\\Temp\\PyDotnet` folder in our case."
   ]
  },
  {
   "cell_type": "code",
   "execution_count": 25,
   "metadata": {
    "collapsed": true,
    "slideshow": {
     "slide_type": "subslide"
    }
   },
   "outputs": [],
   "source": [
    "# And here comes C# source-code\n",
    "source = \"\"\"\n",
    "using System;\n",
    "using System.Collections.Generic;\n",
    "\n",
    "namespace Beach {\n",
    "namespace Sea {\n",
    "namespace Ships {\n",
    "\n",
    "public interface IShip {\n",
    "    string Name { get; }\n",
    "    object Payload { get; set; }\n",
    "}\n",
    "\n",
    "public class Frigate : IShip {\n",
    "    private readonly string m_name;\n",
    "    \n",
    "    public Frigate(string name) {\n",
    "        Console.WriteLine(\"Creating Frigate: {0}\", name);\n",
    "        m_name = name;\n",
    "    }\n",
    "    \n",
    "    public string Name { get { return m_name; } }\n",
    "    \n",
    "    public object Payload { get; set; }\n",
    "}\n",
    "\n",
    "public static class Ranges {\n",
    "    private static IDictionary<string, int> m_ranges;\n",
    "    \n",
    "    public static void SetRanges(IDictionary<string, int> ranges) {\n",
    "        Console.WriteLine(\"Setting ranges: {0}\", ranges);\n",
    "        m_ranges = ranges;\n",
    "    }\n",
    "    \n",
    "    public static int GetRange(this IShip ship) {\n",
    "        if (m_ranges == null)\n",
    "            return -1;\n",
    "        Type shipType = ship.GetType();\n",
    "        int range;\n",
    "        if (m_ranges.TryGetValue(shipType.Name, out range)) {\n",
    "            return range;\n",
    "        }\n",
    "        return -1;\n",
    "    }\n",
    "}\n",
    "\n",
    "public static class ShipExtensions {\n",
    "    public static void AddPayload<TPayload>(this IShip ship, TPayload payload) {\n",
    "        ship.Payload = payload;\n",
    "    }\n",
    "}\n",
    "\n",
    "}\n",
    "}\n",
    "}\n",
    "\"\"\""
   ]
  },
  {
   "cell_type": "code",
   "execution_count": 26,
   "metadata": {
    "collapsed": false,
    "slideshow": {
     "slide_type": "subslide"
    }
   },
   "outputs": [],
   "source": [
    "import os\n",
    "\n",
    "asmpath = r'C:\\Temp\\PyDotnet'\n",
    "\n",
    "if not os.path.isdir(asmpath):\n",
    "    os.mkdir(asmpath)   \n",
    "    \n",
    "output = os.path.join(asmpath, 'Beach.Sea.dll')\n",
    "\n",
    "# Need to delete previous one (if any)\n",
    "if os.path.isfile(output):\n",
    "    os.remove(output)\n",
    "\n",
    "# Need to specify references\n",
    "references = ['mscorlib.dll']\n",
    "\n",
    "# Let's build\n",
    "dotnet.build_assembly(source, output, references)"
   ]
  },
  {
   "cell_type": "markdown",
   "metadata": {
    "slideshow": {
     "slide_type": "subslide"
    }
   },
   "source": [
    "#### Assemblies"
   ]
  },
  {
   "cell_type": "markdown",
   "metadata": {
    "slideshow": {
     "slide_type": "fragment"
    }
   },
   "source": [
    ".NET assemblies can be loaded using `load_assembly()`, but first `add_assemblies()` need to be used to point to assemblies location."
   ]
  },
  {
   "cell_type": "code",
   "execution_count": 27,
   "metadata": {
    "collapsed": false,
    "slideshow": {
     "slide_type": "fragment"
    }
   },
   "outputs": [],
   "source": [
    "dotnet.add_assemblies(r'C:\\\\Temp\\\\PyDotnet')"
   ]
  },
  {
   "cell_type": "markdown",
   "metadata": {
    "slideshow": {
     "slide_type": "fragment"
    }
   },
   "source": [
    "**NOTE** The `add_assemblies()` can be called multiple times to add multiple locations, and `load_assembly()` will use FIFO priority."
   ]
  },
  {
   "cell_type": "code",
   "execution_count": 28,
   "metadata": {
    "collapsed": false,
    "slideshow": {
     "slide_type": "fragment"
    }
   },
   "outputs": [
    {
     "name": "stdout",
     "output_type": "stream",
     "text": [
      "Beach.Sea\n"
     ]
    }
   ],
   "source": [
    "# We can use `help(clr)` to see list of namespaces and assemblies, or we can use `assemblies(filter)`\n",
    "names = dotnet.assemblies('Beach')\n",
    "\n",
    "print(pretty_names(names, 10, 1))"
   ]
  },
  {
   "cell_type": "markdown",
   "metadata": {
    "slideshow": {
     "slide_type": "subslide"
    }
   },
   "source": [
    "Mutiple assemblies can be loaded at once using pattern matching."
   ]
  },
  {
   "cell_type": "code",
   "execution_count": 29,
   "metadata": {
    "collapsed": true,
    "slideshow": {
     "slide_type": "fragment"
    }
   },
   "outputs": [],
   "source": [
    "dotnet.load_assemblies('Beach')"
   ]
  },
  {
   "cell_type": "markdown",
   "metadata": {
    "slideshow": {
     "slide_type": "fragment"
    }
   },
   "source": [
    "We can obtain list of loaded assemblies with call to `loaded_assemblies()`"
   ]
  },
  {
   "cell_type": "code",
   "execution_count": 30,
   "metadata": {
    "collapsed": false,
    "slideshow": {
     "slide_type": "fragment"
    }
   },
   "outputs": [
    {
     "name": "stdout",
     "output_type": "stream",
     "text": [
      "Beach.Sea, Version=0.0.0.0, Culture=neutral, PublicKeyToken=null\n"
     ]
    }
   ],
   "source": [
    "# Let's see what 'Beach' assemblies were loaded\n",
    "names = set(x.FullName for x in dotnet.loaded_assemblies('Beach'))\n",
    "\n",
    "print(pretty_names(names, 10, 1))"
   ]
  },
  {
   "cell_type": "markdown",
   "metadata": {
    "slideshow": {
     "slide_type": "subslide"
    }
   },
   "source": [
    "#### Namespaces"
   ]
  },
  {
   "cell_type": "markdown",
   "metadata": {
    "slideshow": {
     "slide_type": "fragment"
    }
   },
   "source": [
    "We can see available namespaces with call to `namespaces()`\n",
    "\n",
    "**NOTE** By supplying parameter list will be filtered."
   ]
  },
  {
   "cell_type": "code",
   "execution_count": 31,
   "metadata": {
    "collapsed": false,
    "slideshow": {
     "slide_type": "fragment"
    }
   },
   "outputs": [
    {
     "name": "stdout",
     "output_type": "stream",
     "text": [
      "Beach\n",
      "Beach.Sea\n",
      "Beach.Sea.Ships\n"
     ]
    }
   ],
   "source": [
    "# Let's see what are the namespaces containing 'Beach' word\n",
    "names = dotnet.namespaces('Beach')\n",
    "\n",
    "print(pretty_names(names, 12, 1))"
   ]
  },
  {
   "cell_type": "markdown",
   "metadata": {
    "slideshow": {
     "slide_type": "subslide"
    }
   },
   "source": [
    "#### Accessing types defined within namespaces"
   ]
  },
  {
   "cell_type": "markdown",
   "metadata": {
    "slideshow": {
     "slide_type": "fragment"
    }
   },
   "source": [
    "We can access types in those namespaces via `clr`"
   ]
  },
  {
   "cell_type": "code",
   "execution_count": 32,
   "metadata": {
    "collapsed": false,
    "slideshow": {
     "slide_type": "fragment"
    }
   },
   "outputs": [
    {
     "name": "stdout",
     "output_type": "stream",
     "text": [
      "Help on namespace Beach.Sea.Ships:\n",
      "\n",
      "namespace Beach.Sea.Ships\n",
      " |\n",
      " |  Data and other attributes defined here:\n",
      " |\n",
      " |  class Frigate\n",
      " |  class IShip\n",
      " |  class Ranges\n",
      " |  class ShipExtensions\n",
      "\n"
     ]
    }
   ],
   "source": [
    "# We can use `help()` to see what types are defined in the namespace\n",
    "help(dotnet.clr.Beach.Sea.Ships)"
   ]
  },
  {
   "cell_type": "markdown",
   "metadata": {
    "slideshow": {
     "slide_type": "fragment"
    }
   },
   "source": [
    "---"
   ]
  },
  {
   "cell_type": "markdown",
   "metadata": {
    "slideshow": {
     "slide_type": "subslide"
    }
   },
   "source": [
    "We can also access types in those namespaces by using `import` statement"
   ]
  },
  {
   "cell_type": "code",
   "execution_count": 33,
   "metadata": {
    "collapsed": false,
    "slideshow": {
     "slide_type": "fragment"
    }
   },
   "outputs": [
    {
     "name": "stdout",
     "output_type": "stream",
     "text": [
      "Help on method Ranges.SetRanges in module Beach.Sea:\n",
      "  \n",
      "  static SetRanges(ranges: IDictionary[String, Int32])\n",
      "  \n",
      "\n",
      "References:\n",
      " |\n",
      " |  ----------------------------------------------------------------------\n",
      " |  Types defined in assembly mscorlib, Version=4.0.0.0, Culture=neutral, PublicKeyToken=b77a5c561934e089:\n",
      " |\n",
      " |\n",
      " |    within namespace System:\n",
      "...\n"
     ]
    }
   ],
   "source": [
    "# We can also use `import`\n",
    "import Beach.Sea\n",
    "\n",
    "# We can also use `from * import *`\n",
    "from Beach.Sea.Ships import Frigate\n",
    "\n",
    "# The `help()` can be used practically on anything\n",
    "help(Beach.Sea.Ships.Ranges.SetRanges)"
   ]
  },
  {
   "cell_type": "markdown",
   "metadata": {
    "slideshow": {
     "slide_type": "fragment"
    }
   },
   "source": [
    "---"
   ]
  },
  {
   "cell_type": "markdown",
   "metadata": {
    "slideshow": {
     "slide_type": "slide"
    }
   },
   "source": [
    "### String representation of .NET object"
   ]
  },
  {
   "cell_type": "markdown",
   "metadata": {
    "slideshow": {
     "slide_type": "fragment"
    }
   },
   "source": [
    "Python defines two functions `str()` and `repr()`.\n",
    "\n",
    "- The implementation of `str()` for .NET objects calls `ToString()`\n",
    "- The implementation of `repr()` for .NET objects creates Python compatible representation string"
   ]
  },
  {
   "cell_type": "code",
   "execution_count": 34,
   "metadata": {
    "collapsed": false,
    "slideshow": {
     "slide_type": "fragment"
    }
   },
   "outputs": [
    {
     "name": "stdout",
     "output_type": "stream",
     "text": [
      "repr(): [1, 2, 3, 4], str(): System.Collections.Generic.List`1[System.Int32]\n"
     ]
    }
   ],
   "source": [
    "x = List[Int32]([1,2,3,4])\n",
    "\n",
    "print('repr(): ' + repr(x) + ', str(): ' + str(x))"
   ]
  },
  {
   "cell_type": "markdown",
   "metadata": {
    "slideshow": {
     "slide_type": "fragment"
    }
   },
   "source": [
    "---"
   ]
  },
  {
   "cell_type": "markdown",
   "metadata": {
    "slideshow": {
     "slide_type": "subslide"
    }
   },
   "source": [
    "#### Pretty printing"
   ]
  },
  {
   "cell_type": "markdown",
   "metadata": {
    "slideshow": {
     "slide_type": "fragment"
    }
   },
   "source": [
    "In addition to `str()` and `repr()` new function `pretty()` has been added for .NET objects.\n",
    "\n",
    "The `pretty()` function prints out the properties of the object, or multiple objects."
   ]
  },
  {
   "cell_type": "code",
   "execution_count": 35,
   "metadata": {
    "collapsed": false,
    "scrolled": false,
    "slideshow": {
     "slide_type": "fragment"
    }
   },
   "outputs": [
    {
     "name": "stdout",
     "output_type": "stream",
     "text": [
      "TimeSpan:\n",
      "\tTicks:\t360000000000\n",
      "\tDays:\t0\n",
      "\tHours:\t10\n",
      "\tMilliseconds:\t0\n",
      "\tMinutes:\t0\n",
      "\tSeconds:\t0\n",
      "\tTotalDays:\t0.416666666667\n",
      "\tTotalHours:\t10.0\n",
      "\tTotalMilliseconds:\t36000000.0\n",
      "\tTotalMinutes:\t600.0\n",
      "\tTotalSeconds:\t36000.0\n",
      "DateTime:\n",
      "\tDate:\tinstance of DateTime\n",
      "\tDay:\t1\n",
      "\tDayOfWeek:\tinstance of DayOfWeek\n",
      "\tDayOfYear:\t1\n",
      "\tHour:\t0\n",
      "\tKind:\tinstance of DateTimeKind\n",
      "\tMillisecond:\t0\n",
      "\tMinute:\t0\n",
      "\tMonth:\t1\n",
      "\tSecond:\t0\n",
      "\tTicks:\t635872032000000000\n",
      "\tTimeOfDay:\tinstance of TimeSpan\n",
      "\tYear:\t2016\n"
     ]
    }
   ],
   "source": [
    "from System import TimeSpan, DateTime\n",
    "from dotnet import pretty\n",
    "\n",
    "a = TimeSpan(10,0,0)\n",
    "b = DateTime(2016,1,1)\n",
    "\n",
    "print(pretty([a, b]))"
   ]
  },
  {
   "cell_type": "markdown",
   "metadata": {
    "slideshow": {
     "slide_type": "fragment"
    }
   },
   "source": [
    "**NOTE** The main purpose of `pretty()` function is to use it with interactive Python shell."
   ]
  },
  {
   "cell_type": "markdown",
   "metadata": {
    "slideshow": {
     "slide_type": "fragment"
    }
   },
   "source": [
    "---"
   ]
  },
  {
   "cell_type": "markdown",
   "metadata": {
    "slideshow": {
     "slide_type": "slide"
    }
   },
   "source": [
    "### Methods and Constructors"
   ]
  },
  {
   "cell_type": "markdown",
   "metadata": {
    "slideshow": {
     "slide_type": "fragment"
    }
   },
   "source": [
    "#### Method Overloads"
   ]
  },
  {
   "cell_type": "markdown",
   "metadata": {
    "slideshow": {
     "slide_type": "fragment"
    }
   },
   "source": [
    "Automatic resolution of method overloads is supported."
   ]
  },
  {
   "cell_type": "code",
   "execution_count": 36,
   "metadata": {
    "collapsed": false,
    "slideshow": {
     "slide_type": "fragment"
    }
   },
   "outputs": [
    {
     "data": {
      "text/plain": [
       "3"
      ]
     },
     "execution_count": 36,
     "metadata": {},
     "output_type": "execute_result"
    }
   ],
   "source": [
    "x = List[Int32]([1,2,3,4])\n",
    "\n",
    "# Let's use `FindIndex(Int32 startIndex, Predicate<Int32> match)`\n",
    "x.FindIndex(0, lambda a: a > 3)"
   ]
  },
  {
   "cell_type": "code",
   "execution_count": 37,
   "metadata": {
    "collapsed": false,
    "slideshow": {
     "slide_type": "fragment"
    }
   },
   "outputs": [
    {
     "name": "stdout",
     "output_type": "stream",
     "text": [
      "Help on method List[Int32].FindIndex in module mscorlib:\n",
      "  \n",
      "  FindIndex(match: Predicate[Int32]) -> Int32\n",
      "  \n",
      "  FindIndex(startIndex: Int32, match: Predicate[Int32]) -> Int32\n",
      "  \n",
      "  FindIndex(startIndex: Int32, count: Int32, match: Predicate[Int32]) -> Int32\n",
      "  \n",
      "\n",
      "References:\n",
      " |\n",
      " |  ----------------------------------------------------------------------\n",
      "...\n"
     ]
    }
   ],
   "source": [
    "help(x.FindIndex)"
   ]
  },
  {
   "cell_type": "markdown",
   "metadata": {
    "slideshow": {
     "slide_type": "fragment"
    }
   },
   "source": [
    "---"
   ]
  },
  {
   "cell_type": "markdown",
   "metadata": {
    "slideshow": {
     "slide_type": "subslide"
    }
   },
   "source": [
    "#### Explicit method overload selection"
   ]
  },
  {
   "cell_type": "markdown",
   "metadata": {
    "slideshow": {
     "slide_type": "fragment"
    }
   },
   "source": [
    "Sometimes automatic method overload resolution doesn't work as expected. We can still specify overload explicitly.\n",
    "\n",
    "**NOTE** `None` can be used to select parameterless overload."
   ]
  },
  {
   "cell_type": "code",
   "execution_count": 38,
   "metadata": {
    "collapsed": false,
    "slideshow": {
     "slide_type": "fragment"
    }
   },
   "outputs": [
    {
     "data": {
      "text/plain": [
       "3"
      ]
     },
     "execution_count": 38,
     "metadata": {},
     "output_type": "execute_result"
    }
   ],
   "source": [
    "x = List[Int32]([1,2,3,4])\n",
    "\n",
    "# Let's use `FindIndex(Int32 startIndex, Predicate<Int32> match)`\n",
    "x.FindIndex[Int32, System.Predicate[Int32]](0, lambda a: a > 3)"
   ]
  },
  {
   "cell_type": "code",
   "execution_count": 39,
   "metadata": {
    "collapsed": false,
    "slideshow": {
     "slide_type": "fragment"
    }
   },
   "outputs": [
    {
     "name": "stdout",
     "output_type": "stream",
     "text": [
      "Help on method List[Int32].FindIndex in module mscorlib:\n",
      "  \n",
      "  FindIndex(startIndex: Int32, match: Predicate[Int32]) -> Int32\n",
      "  \n",
      "\n",
      "References:\n",
      " |\n",
      " |  ----------------------------------------------------------------------\n",
      " |  Types defined in assembly mscorlib, Version=4.0.0.0, Culture=neutral, PublicKeyToken=b77a5c561934e089:\n",
      " |\n",
      " |\n",
      " |    within namespace System.Collections.Generic:\n",
      "...\n"
     ]
    }
   ],
   "source": [
    "# Explicit overload selection\n",
    "help(x.FindIndex[Int32, System.Predicate[Int32]])"
   ]
  },
  {
   "cell_type": "markdown",
   "metadata": {
    "slideshow": {
     "slide_type": "fragment"
    }
   },
   "source": [
    "---"
   ]
  },
  {
   "cell_type": "markdown",
   "metadata": {
    "slideshow": {
     "slide_type": "subslide"
    }
   },
   "source": [
    "#### Constructors"
   ]
  },
  {
   "cell_type": "markdown",
   "metadata": {
    "slideshow": {
     "slide_type": "fragment"
    }
   },
   "source": [
    "The constructors can be accessed via `__createinstance__` property, and it may represent constructor overloads."
   ]
  },
  {
   "cell_type": "code",
   "execution_count": 40,
   "metadata": {
    "collapsed": false,
    "slideshow": {
     "slide_type": "fragment"
    }
   },
   "outputs": [
    {
     "name": "stdout",
     "output_type": "stream",
     "text": [
      "Help on method List[Int32].__init__ in module mscorlib:\n",
      "  \n",
      "  __init__() -> List[Int32]\n",
      "  \n",
      "  __init__(capacity: Int32) -> List[Int32]\n",
      "  \n",
      "  __init__(collection: IEnumerable[Int32]) -> List[Int32]\n",
      "  \n",
      "\n",
      "References:\n",
      " |\n",
      " |  ----------------------------------------------------------------------\n",
      "...\n"
     ]
    }
   ],
   "source": [
    "# Let's see how can we construct a List of Int32\n",
    "help(List[Int32].__createinstance__)"
   ]
  },
  {
   "cell_type": "markdown",
   "metadata": {
    "slideshow": {
     "slide_type": "fragment"
    }
   },
   "source": [
    "---"
   ]
  },
  {
   "cell_type": "markdown",
   "metadata": {
    "slideshow": {
     "slide_type": "subslide"
    }
   },
   "source": [
    "#### Explicit constructor selection"
   ]
  },
  {
   "cell_type": "markdown",
   "metadata": {
    "slideshow": {
     "slide_type": "fragment"
    }
   },
   "source": [
    "Sometimes automatic constructor resolution doesn't work as expected. We can still specify overload explicitly.\n",
    "\n",
    "**NOTE** `None` can be used to select parameterless constructor."
   ]
  },
  {
   "cell_type": "code",
   "execution_count": 41,
   "metadata": {
    "collapsed": false,
    "slideshow": {
     "slide_type": "fragment"
    }
   },
   "outputs": [
    {
     "name": "stdout",
     "output_type": "stream",
     "text": [
      "Help on method List[Int32].__init__ in module mscorlib:\n",
      "  \n",
      "  __init__() -> List[Int32]\n",
      "  \n",
      "\n",
      "References:\n",
      " |\n",
      " |  ----------------------------------------------------------------------\n",
      " |  Types defined in assembly mscorlib, Version=4.0.0.0, Culture=neutral, PublicKeyToken=b77a5c561934e089:\n",
      " |\n",
      " |\n",
      " |    within namespace System.Collections.Generic:\n",
      "...\n"
     ]
    }
   ],
   "source": [
    "# Let's select first constructor (the parameterless one)\n",
    "help(List[Int32][None])"
   ]
  },
  {
   "cell_type": "markdown",
   "metadata": {
    "slideshow": {
     "slide_type": "fragment"
    }
   },
   "source": [
    "---"
   ]
  },
  {
   "cell_type": "markdown",
   "metadata": {
    "slideshow": {
     "slide_type": "slide"
    }
   },
   "source": [
    "### Generic methods"
   ]
  },
  {
   "cell_type": "markdown",
   "metadata": {
    "slideshow": {
     "slide_type": "fragment"
    }
   },
   "source": [
    "The generic methods are supported seamlessly."
   ]
  },
  {
   "cell_type": "code",
   "execution_count": 42,
   "metadata": {
    "collapsed": false,
    "slideshow": {
     "slide_type": "fragment"
    }
   },
   "outputs": [
    {
     "data": {
      "text/plain": [
       "[1, 2, 3]"
      ]
     },
     "execution_count": 42,
     "metadata": {},
     "output_type": "execute_result"
    }
   ],
   "source": [
    "from Beach.Sea.Ships import Frigate, ShipExtensions\n",
    "\n",
    "frigate = Frigate('DaVinci')\n",
    "\n",
    "payload = List[Int32]([1,2,3])\n",
    "\n",
    "# We call generic method as any other method\n",
    "ShipExtensions.AddPayload(frigate, payload)\n",
    "\n",
    "frigate.Payload"
   ]
  },
  {
   "cell_type": "markdown",
   "metadata": {
    "slideshow": {
     "slide_type": "fragment"
    }
   },
   "source": [
    "---"
   ]
  },
  {
   "cell_type": "code",
   "execution_count": 43,
   "metadata": {
    "collapsed": false,
    "slideshow": {
     "slide_type": "subslide"
    }
   },
   "outputs": [
    {
     "name": "stdout",
     "output_type": "stream",
     "text": [
      "Help on method ShipExtensions.AddPayload in module Beach.Sea:\n",
      "  \n",
      "  static AddPayload(ship: IShip, payload: TPayload)\n",
      "  \n",
      "\n",
      "References:\n",
      " |\n",
      " |  ----------------------------------------------------------------------\n",
      " |  Types defined in assembly Beach.Sea, Version=0.0.0.0, Culture=neutral, PublicKeyToken=null:\n",
      " |\n",
      " |\n",
      " |    within namespace Beach.Sea.Ships:\n",
      "...\n"
     ]
    }
   ],
   "source": [
    "# Let's take a look at `Fire` method\n",
    "help(ShipExtensions.AddPayload)"
   ]
  },
  {
   "cell_type": "markdown",
   "metadata": {
    "slideshow": {
     "slide_type": "fragment"
    }
   },
   "source": [
    "---"
   ]
  },
  {
   "cell_type": "markdown",
   "metadata": {
    "slideshow": {
     "slide_type": "subslide"
    }
   },
   "source": [
    "#### Explicit generic parameter types specialization"
   ]
  },
  {
   "cell_type": "markdown",
   "metadata": {
    "slideshow": {
     "slide_type": "fragment"
    }
   },
   "source": [
    "Sometimes automatic generic parameter type resolution doesn't work. In those cases we can still select specialization that we want to use."
   ]
  },
  {
   "cell_type": "code",
   "execution_count": 44,
   "metadata": {
    "collapsed": false,
    "slideshow": {
     "slide_type": "fragment"
    }
   },
   "outputs": [],
   "source": [
    "# Explicit generic parameter types specialization\n",
    "ShipExtensions.AddPayload[List[Int32]](frigate, [1,2,3])"
   ]
  },
  {
   "cell_type": "markdown",
   "metadata": {
    "slideshow": {
     "slide_type": "fragment"
    }
   },
   "source": [
    "Note that since we explicilty say that `AddPayload` method takes a `List<Int32>` we can pass python list, and it will implicitly get converted into `List<int32>`, because this is the expected type."
   ]
  },
  {
   "cell_type": "markdown",
   "metadata": {
    "slideshow": {
     "slide_type": "fragment"
    }
   },
   "source": [
    "---"
   ]
  },
  {
   "cell_type": "markdown",
   "metadata": {
    "slideshow": {
     "slide_type": "slide"
    }
   },
   "source": [
    "### Extension methods"
   ]
  },
  {
   "cell_type": "markdown",
   "metadata": {
    "slideshow": {
     "slide_type": "fragment"
    }
   },
   "source": [
    "The extension methods are supported seamlessly."
   ]
  },
  {
   "cell_type": "code",
   "execution_count": 45,
   "metadata": {
    "collapsed": false,
    "slideshow": {
     "slide_type": "fragment"
    }
   },
   "outputs": [
    {
     "data": {
      "text/plain": [
       "2000"
      ]
     },
     "execution_count": 45,
     "metadata": {},
     "output_type": "execute_result"
    }
   ],
   "source": [
    "frigate = Frigate(\"DaVinci\")\n",
    "\n",
    "Beach.Sea.Ships.Ranges.SetRanges({'Frigate':2000})\n",
    "\n",
    "# Calling extension method GetRange()\n",
    "frigate.GetRange()"
   ]
  },
  {
   "cell_type": "markdown",
   "metadata": {
    "slideshow": {
     "slide_type": "subslide"
    }
   },
   "source": [
    "We can also call any generic extension method:"
   ]
  },
  {
   "cell_type": "code",
   "execution_count": 46,
   "metadata": {
    "collapsed": false,
    "slideshow": {
     "slide_type": "fragment"
    }
   },
   "outputs": [],
   "source": [
    "frigate = Frigate(\"DaVinci\")\n",
    "\n",
    "payload = List[Int32]([1,2,3])\n",
    "\n",
    "# We can also call generic extension method\n",
    "frigate.AddPayload(payload)"
   ]
  },
  {
   "cell_type": "code",
   "execution_count": 47,
   "metadata": {
    "collapsed": false,
    "slideshow": {
     "slide_type": "fragment"
    }
   },
   "outputs": [
    {
     "name": "stdout",
     "output_type": "stream",
     "text": [
      "x =  1\n"
     ]
    }
   ],
   "source": [
    "def f(x):\n",
    "    print('x = ', x)\n",
    "\n",
    "# We can wrap any python function into either Action or Func\n",
    "payload = Action1[Int32](f)\n",
    "\n",
    "frigate.AddPayload(payload)\n",
    "\n",
    "frigate.Payload.Invoke(1)"
   ]
  },
  {
   "cell_type": "markdown",
   "metadata": {
    "slideshow": {
     "slide_type": "fragment"
    }
   },
   "source": [
    "---"
   ]
  },
  {
   "cell_type": "markdown",
   "metadata": {
    "slideshow": {
     "slide_type": "subslide"
    }
   },
   "source": [
    "Should the extension method be generic, the type parameters can be specialized explicitly."
   ]
  },
  {
   "cell_type": "code",
   "execution_count": 48,
   "metadata": {
    "collapsed": false,
    "slideshow": {
     "slide_type": "fragment"
    }
   },
   "outputs": [
    {
     "data": {
      "text/plain": [
       "[1, 2, 3]"
      ]
     },
     "execution_count": 48,
     "metadata": {},
     "output_type": "execute_result"
    }
   ],
   "source": [
    "frigate.AddPayload[List[Int32]]([1,2,3])\n",
    "\n",
    "frigate.Payload"
   ]
  },
  {
   "cell_type": "markdown",
   "metadata": {
    "slideshow": {
     "slide_type": "fragment"
    }
   },
   "source": [
    "---"
   ]
  },
  {
   "cell_type": "markdown",
   "metadata": {
    "slideshow": {
     "slide_type": "slide"
    }
   },
   "source": [
    "### Questions?"
   ]
  }
 ],
 "metadata": {
  "celltoolbar": "Slideshow",
  "kernelspec": {
   "display_name": "Python 2",
   "language": "python",
   "name": "python2"
  },
  "language_info": {
   "codemirror_mode": {
    "name": "ipython",
    "version": 2
   },
   "file_extension": ".py",
   "mimetype": "text/x-python",
   "name": "python",
   "nbconvert_exporter": "python",
   "pygments_lexer": "ipython2",
   "version": "2.7.11"
  }
 },
 "nbformat": 4,
 "nbformat_minor": 0
}
